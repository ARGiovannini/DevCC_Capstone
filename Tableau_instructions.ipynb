{
 "cells": [
  {
   "attachments": {},
   "cell_type": "markdown",
   "metadata": {},
   "source": [
    "# Step by step guide to creating my SQL insights, Tableau dashboards, and Tableau story"
   ]
  },
  {
   "attachments": {},
   "cell_type": "markdown",
   "metadata": {},
   "source": [
    "## SQL insights needed:\n",
    "    - Find locations with the best prize pool ratio\n",
    "    - Find locations with the most freerolls\n",
    "    - Create buckets with buy in ranges, investigate prize pool ratio's for the given buckets"
   ]
  },
  {
   "attachments": {},
   "cell_type": "markdown",
   "metadata": {},
   "source": [
    "## Tableau creations:\n",
    "\n",
    "### Story:\n",
    "- Poker proffesionals run a business in which the decisions they make in the game are either +EV or -EV.\n",
    "- Finding the correct poker tournament to play can be one of the decisions that shift a players EV up or down by $5k-$10k/year.\n",
    "- Important metrics for determining their return are:\n",
    "    - Ratio of their buy in going into the prize pool\n",
    "    - Size of the prize pool\n",
    "    - Location and clustering of tournaments (Minimize traveling)\n",
    "- Understanding the Data\n",
    "- Filter by time and location dashboard\n",
    "- Filter by Total buy in buckets/SUM(location)\n",
    "- \n",
    "\n",
    "#### Filter by time and location:\n",
    "    1. Create a sheet that can filter by location\n",
    "    2. Create a sheet that can filter by date time\n",
    "    3. Create a list that will be the output of both filters\n",
    "    4. Create a dashboard to interact with all three sheets\n",
    "\n",
    "#### Filter by Total buy in buckets:\n",
    "    1. "
   ]
  },
  {
   "attachments": {},
   "cell_type": "markdown",
   "metadata": {},
   "source": [
    "Breakdown for three different types of end users.\n",
    "Use text to create a list of poker tournaments instead of bar chart.\n"
   ]
  }
 ],
 "metadata": {
  "kernelspec": {
   "display_name": "Python 3",
   "language": "python",
   "name": "python3"
  },
  "language_info": {
   "name": "python",
   "version": "3.10.4 (v3.10.4:9d38120e33, Mar 23 2022, 17:29:05) [Clang 13.0.0 (clang-1300.0.29.30)]"
  },
  "orig_nbformat": 4,
  "vscode": {
   "interpreter": {
    "hash": "aee8b7b246df8f9039afb4144a1f6fd8d2ca17a180786b69acc140d282b71a49"
   }
  }
 },
 "nbformat": 4,
 "nbformat_minor": 2
}
