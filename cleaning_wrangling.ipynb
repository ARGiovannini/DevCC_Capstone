{
 "cells": [
  {
   "cell_type": "code",
   "execution_count": 3,
   "metadata": {},
   "outputs": [],
   "source": [
    "import pandas as pd"
   ]
  },
  {
   "attachments": {},
   "cell_type": "markdown",
   "metadata": {},
   "source": [
    "### combine my 3 CSV's into one CSV"
   ]
  },
  {
   "cell_type": "code",
   "execution_count": 3,
   "metadata": {},
   "outputs": [],
   "source": [
    "df = pd.concat(map(pd.read_csv, ['Tournaments_data_3.csv', 'Tournaments_data_4.csv','Tournaments_data_5.csv']))"
   ]
  },
  {
   "cell_type": "code",
   "execution_count": 4,
   "metadata": {},
   "outputs": [],
   "source": [
    "df.to_csv(\"combined_data.csv\", encoding='utf-8')"
   ]
  },
  {
   "cell_type": "code",
   "execution_count": 5,
   "metadata": {},
   "outputs": [],
   "source": [
    "df = df.set_index(\"Unique ID\")"
   ]
  },
  {
   "attachments": {},
   "cell_type": "markdown",
   "metadata": {},
   "source": [
    "### Raw data to be brought in after combining CSV's"
   ]
  },
  {
   "cell_type": "code",
   "execution_count": 32,
   "metadata": {},
   "outputs": [],
   "source": [
    "df = pd.read_csv(\"combined_data.csv\", index_col=\"Unique ID\")"
   ]
  },
  {
   "cell_type": "code",
   "execution_count": 2,
   "metadata": {},
   "outputs": [],
   "source": [
    "df = pd.read_csv(\"testing_in_tableau.csv\")"
   ]
  },
  {
   "cell_type": "code",
   "execution_count": 8,
   "metadata": {},
   "outputs": [],
   "source": [
    "df = pd.read_csv(\"cleaned_poker_data.csv\")"
   ]
  },
  {
   "attachments": {},
   "cell_type": "markdown",
   "metadata": {},
   "source": [
    "### Remove any null values\n",
    "The null values we have are in the date column, as well as the game type column. Any date that was on the day that my script ran came back NaN, it doesn't seem to matter much to remove these as that day has past, and it will be just a few hundred lines. I am not sure why a few hundred came back without a game type, but they mostly seemed to be from the same locations. While it does suck to lose those locations, the game type is very key information, and I will be ommiting them unless I run the script again and can solve the issue of them coming back blank. This still leaves me with over 7k rows of information."
   ]
  },
  {
   "cell_type": "code",
   "execution_count": 34,
   "metadata": {},
   "outputs": [],
   "source": [
    "df = df.dropna()"
   ]
  },
  {
   "cell_type": "markdown",
   "metadata": {},
   "source": [
    "### Convert date and time into readable DateTime"
   ]
  },
  {
   "cell_type": "code",
   "execution_count": 36,
   "metadata": {},
   "outputs": [],
   "source": [
    "df[\"Date\"] = df[\"Date\"].str[1:5]\n",
    "df[\"Date\"] = df[\"Date\"] + \"/2023\""
   ]
  },
  {
   "cell_type": "code",
   "execution_count": 38,
   "metadata": {},
   "outputs": [],
   "source": [
    "df['Start time'] = df['Start time'].str.replace(\"am\", \":00 am\")\n",
    "df['Start time'] = df['Start time'].str.replace(\"pm\", \":00 pm\")"
   ]
  },
  {
   "cell_type": "code",
   "execution_count": 39,
   "metadata": {},
   "outputs": [],
   "source": [
    "df[\"Date Time\"] = df[\"Date\"] + \" \" + df[\"Start time\"]"
   ]
  },
  {
   "cell_type": "code",
   "execution_count": 41,
   "metadata": {},
   "outputs": [],
   "source": [
    "df = df.drop(['Date', 'Start time'], axis=1)"
   ]
  },
  {
   "attachments": {},
   "cell_type": "markdown",
   "metadata": {},
   "source": [
    "### Create new column for the ratio of the buy in the goes to the prize pool\n",
    "This step includes some slicing, as well as removing any rows with \"Day 2\" as a value in the \"Total buy in\" column. \"Day 2\" I decided was unnecessary, as that particular tournament will have been accounted for in its various day 1 entries. This left me with 5475 rows of data.\n",
    "\n",
    "This step also includes turning the objects into numerical values"
   ]
  },
  {
   "cell_type": "code",
   "execution_count": 51,
   "metadata": {},
   "outputs": [],
   "source": [
    "df = df[df[\"Total buy in\"].str.contains(\"ay 2\") == False]"
   ]
  },
  {
   "cell_type": "code",
   "execution_count": 46,
   "metadata": {},
   "outputs": [],
   "source": [
    "df[\"Total buy in\"] = df[\"Total buy in\"].str[1:]\n",
    "df[\"Prize pool\"] = df[\"Prize pool\"].str[1:]\n",
    "df[\"rake\"] = df[\"rake\"].str[1:]"
   ]
  },
  {
   "cell_type": "code",
   "execution_count": 48,
   "metadata": {},
   "outputs": [],
   "source": [
    "df[\"Total buy in\"] = df[\"Total buy in\"].str.replace(\",\", \"\")\n",
    "df[\"Prize pool\"] = df[\"Prize pool\"].str.replace(\",\", \"\")\n"
   ]
  },
  {
   "cell_type": "code",
   "execution_count": 52,
   "metadata": {},
   "outputs": [],
   "source": [
    "df[\"Total buy in\"] = pd.to_numeric(df[\"Total buy in\"])\n",
    "df[\"Prize pool\"] = pd.to_numeric(df[\"Prize pool\"])"
   ]
  },
  {
   "attachments": {},
   "cell_type": "markdown",
   "metadata": {},
   "source": [
    "### Create \"Prize pool ratio\" column\n",
    "This step is important, as it informs the poker player how much of their initial investment can potentially be returned, vs. how much of it goes to paying the venue and staff.\n",
    "\n",
    "\"Prize pool ratio\" returned some NaN values as a freeroll tournament would try to find a value of 0/0. Therefore, I replaced NaN values with 1.1, denoting that their return is technically infinite because it requires 0 dollars to enter, but they can win dollars in return. It is important to note that freeroll tournaments are usually not worth the time when factored in with the opportunity cost of winning at a larger buy in tournament, if attempting to generate the highest hourly rate."
   ]
  },
  {
   "cell_type": "code",
   "execution_count": 98,
   "metadata": {},
   "outputs": [],
   "source": [
    "df[\"Prize pool ratio\"] = df[\"Prize pool\"] / df[\"Total buy in\"]"
   ]
  },
  {
   "cell_type": "code",
   "execution_count": 72,
   "metadata": {},
   "outputs": [],
   "source": [
    "df = df.fillna(1.1)"
   ]
  },
  {
   "attachments": {},
   "cell_type": "markdown",
   "metadata": {},
   "source": [
    "Additional info describes the information obtained in the collumn, as only some tournaments have a guarantee, but all tournaments have data here."
   ]
  },
  {
   "cell_type": "code",
   "execution_count": 10,
   "metadata": {},
   "outputs": [],
   "source": [
    "df = df.rename(columns={\"Guarantee\": \"Additional info\"})"
   ]
  },
  {
   "attachments": {},
   "cell_type": "markdown",
   "metadata": {},
   "source": [
    "### Create a postal code column to use in tableau later\n",
    "- Step 1: Remove location\n",
    "- Step 2: Export Distinct Venues to a CSV\n",
    "- Step 3: Manually add Postal code looking it up on the internet\n",
    "- Step 4: Join Venue_locations.csv and testing_in_tableau.csv"
   ]
  },
  {
   "cell_type": "code",
   "execution_count": 5,
   "metadata": {},
   "outputs": [],
   "source": [
    "df = df.drop([\"Unnamed: 0\", \"location\"], axis=1)"
   ]
  },
  {
   "cell_type": "code",
   "execution_count": null,
   "metadata": {},
   "outputs": [],
   "source": [
    "df[\"Venue\"].value_counts().to_csv(\"Venue_locations.csv\")"
   ]
  },
  {
   "cell_type": "code",
   "execution_count": 11,
   "metadata": {},
   "outputs": [],
   "source": [
    "locations_df = pd.read_csv(\"Venue_locations.csv\")"
   ]
  },
  {
   "cell_type": "code",
   "execution_count": 18,
   "metadata": {},
   "outputs": [],
   "source": [
    "df = df.merge(right=locations_df, how='left', on='Venue')"
   ]
  },
  {
   "cell_type": "code",
   "execution_count": 12,
   "metadata": {},
   "outputs": [],
   "source": [
    "df = df[['Date Time', 'Venue', 'Postal code', 'Game type', 'Total buy in', 'Prize pool', 'rake', 'Prize pool ratio', 'Additional info']]"
   ]
  },
  {
   "cell_type": "code",
   "execution_count": 14,
   "metadata": {},
   "outputs": [],
   "source": [
    "df = df.rename(columns={\"Postal code\": \"Postal Code\", \"Game type\": \"Game Type\", \n",
    "\"Prize pool\": \"Prize Pool\", \"rake\": \"Rake\", \"Prize pool ratio\": \"Prize Pool Ratio\", \"Additional info\": \"Additional Info\"})"
   ]
  },
  {
   "cell_type": "code",
   "execution_count": 9,
   "metadata": {},
   "outputs": [
    {
     "name": "stdout",
     "output_type": "stream",
     "text": [
      "<class 'pandas.core.frame.DataFrame'>\n",
      "RangeIndex: 5475 entries, 0 to 5474\n",
      "Data columns (total 10 columns):\n",
      " #   Column            Non-Null Count  Dtype  \n",
      "---  ------            --------------  -----  \n",
      " 0   Unique ID         5475 non-null   int64  \n",
      " 1   Date Time         5475 non-null   object \n",
      " 2   Venue             5475 non-null   object \n",
      " 3   Postal Code       5475 non-null   int64  \n",
      " 4   Game Type         5475 non-null   object \n",
      " 5   Total buy in      5475 non-null   int64  \n",
      " 6   Prize Pool        5475 non-null   int64  \n",
      " 7   Rake              5475 non-null   object \n",
      " 8   Prize Pool Ratio  5475 non-null   float64\n",
      " 9   Additional Info   5475 non-null   object \n",
      "dtypes: float64(1), int64(4), object(5)\n",
      "memory usage: 427.9+ KB\n"
     ]
    }
   ],
   "source": [
    "df.info()"
   ]
  },
  {
   "cell_type": "code",
   "execution_count": 17,
   "metadata": {},
   "outputs": [],
   "source": [
    "df.to_csv(\"testing_in_tableau.csv\", encoding='utf-8')"
   ]
  },
  {
   "cell_type": "code",
   "execution_count": 16,
   "metadata": {},
   "outputs": [],
   "source": [
    "df.to_csv(\"cleaned_poker_data.csv\", encoding='utf-8')"
   ]
  }
 ],
 "metadata": {
  "kernelspec": {
   "display_name": "Python 3",
   "language": "python",
   "name": "python3"
  },
  "language_info": {
   "codemirror_mode": {
    "name": "ipython",
    "version": 3
   },
   "file_extension": ".py",
   "mimetype": "text/x-python",
   "name": "python",
   "nbconvert_exporter": "python",
   "pygments_lexer": "ipython3",
   "version": "3.10.4"
  },
  "orig_nbformat": 4,
  "vscode": {
   "interpreter": {
    "hash": "aee8b7b246df8f9039afb4144a1f6fd8d2ca17a180786b69acc140d282b71a49"
   }
  }
 },
 "nbformat": 4,
 "nbformat_minor": 2
}
