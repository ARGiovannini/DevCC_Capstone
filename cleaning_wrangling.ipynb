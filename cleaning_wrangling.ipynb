{
 "cells": [
  {
   "cell_type": "code",
   "execution_count": 4,
   "metadata": {},
   "outputs": [],
   "source": [
    "import pandas as pd"
   ]
  },
  {
   "attachments": {},
   "cell_type": "markdown",
   "metadata": {},
   "source": [
    "### combine my 3 CSV's into one CSV"
   ]
  },
  {
   "cell_type": "code",
   "execution_count": 178,
   "metadata": {},
   "outputs": [],
   "source": [
    "df = pd.concat(map(pd.read_csv, ['Tournaments_data_3.csv', 'Tournaments_data_4.csv','Tournaments_data_5.csv']))"
   ]
  },
  {
   "cell_type": "code",
   "execution_count": 179,
   "metadata": {},
   "outputs": [],
   "source": [
    "df.to_csv(\"combined_data.csv\", encoding='utf-8')"
   ]
  },
  {
   "cell_type": "code",
   "execution_count": 180,
   "metadata": {},
   "outputs": [],
   "source": [
    "df = df.set_index(\"Unique ID\")"
   ]
  },
  {
   "attachments": {},
   "cell_type": "markdown",
   "metadata": {},
   "source": [
    "### Raw data to be brought in after combining CSV's"
   ]
  },
  {
   "cell_type": "code",
   "execution_count": 135,
   "metadata": {},
   "outputs": [],
   "source": [
    "df = pd.read_csv(\"combined_data.csv\", index_col=\"Unique ID\")"
   ]
  },
  {
   "attachments": {},
   "cell_type": "markdown",
   "metadata": {},
   "source": [
    "### Remove any null values\n",
    "The null values we have are in the date column, as well as the game type column. Any date that was on the day that my script ran came back NaN, it doesn't seem to matter much to remove these as that day has past, and it will be just a few hundred lines. I am not sure why a few hundred came back without a game type, but they mostly seemed to be from the same locations. While it does suck to lose those locations, the game type is very key information, and I will be ommiting them unless I run the script again and can solve the issue of them coming back blank. This still leaves me with over 7k rows of information."
   ]
  },
  {
   "cell_type": "code",
   "execution_count": 181,
   "metadata": {},
   "outputs": [],
   "source": [
    "df = df.dropna()"
   ]
  },
  {
   "cell_type": "markdown",
   "metadata": {},
   "source": [
    "### Convert date and time into readable DateTime"
   ]
  },
  {
   "cell_type": "code",
   "execution_count": 182,
   "metadata": {},
   "outputs": [],
   "source": [
    "df.Date = df.Date.str[1:5]\n",
    "df.Date = df.Date + \"/2023\""
   ]
  },
  {
   "cell_type": "code",
   "execution_count": 183,
   "metadata": {},
   "outputs": [],
   "source": [
    "df['Start time'] = df['Start time'].str.replace(\"am\", \":00 am\")\n",
    "df['Start time'] = df['Start time'].str.replace(\"pm\", \":00 pm\")"
   ]
  },
  {
   "cell_type": "code",
   "execution_count": 184,
   "metadata": {},
   "outputs": [],
   "source": [
    "df[\"Date Time\"] = df[\"Date\"] + \" \" + df[\"Start time\"]"
   ]
  },
  {
   "cell_type": "code",
   "execution_count": 185,
   "metadata": {},
   "outputs": [],
   "source": [
    "df = df.drop(['Date', 'Start time'], axis=1)"
   ]
  },
  {
   "attachments": {},
   "cell_type": "markdown",
   "metadata": {},
   "source": [
    "### Create new column for the ratio of the buy in the goes to the prize pool\n",
    "This step includes some slicing, as well as replacing \"day 2\" with \"1\". It will be important to note in the future that any \"Total buy in\" with a value of \"1\" is a continuation of a tournament that started on different days.\n",
    "\n",
    "This step also includes turning the objects into numerical values"
   ]
  },
  {
   "cell_type": "code",
   "execution_count": 187,
   "metadata": {},
   "outputs": [],
   "source": [
    "df[\"Total buy in\"] = df[\"Total buy in\"].str[1:]\n",
    "df[\"Prize pool\"] = df[\"Prize pool\"].str[1:]\n",
    "df[\"rake\"] = df[\"rake\"].str[1:]"
   ]
  },
  {
   "cell_type": "code",
   "execution_count": 191,
   "metadata": {},
   "outputs": [],
   "source": [
    "df[\"Total buy in\"] = df[\"Total buy in\"].replace(\"ay 2\", \"1\")\n"
   ]
  },
  {
   "cell_type": "code",
   "execution_count": 192,
   "metadata": {},
   "outputs": [],
   "source": [
    "df[\"Total buy in\"] = df[\"Total buy in\"].str.replace(\",\", \"\")\n",
    "df[\"Prize pool\"] = df[\"Prize pool\"].str.replace(\",\", \"\")\n"
   ]
  },
  {
   "cell_type": "code",
   "execution_count": 193,
   "metadata": {},
   "outputs": [],
   "source": [
    "df[\"Total buy in\"] = pd.to_numeric(df[\"Total buy in\"])\n",
    "df[\"Prize pool\"] = pd.to_numeric(df[\"Prize pool\"])"
   ]
  },
  {
   "cell_type": "code",
   "execution_count": 198,
   "metadata": {},
   "outputs": [],
   "source": [
    "df[\"Prize pool ratio\"] = df[\"Prize pool\"] / df[\"Total buy in\"]"
   ]
  },
  {
   "cell_type": "code",
   "execution_count": 199,
   "metadata": {},
   "outputs": [
    {
     "name": "stdout",
     "output_type": "stream",
     "text": [
      "<class 'pandas.core.frame.DataFrame'>\n",
      "Int64Index: 7066 entries, 235 to 8172\n",
      "Data columns (total 9 columns):\n",
      " #   Column            Non-Null Count  Dtype  \n",
      "---  ------            --------------  -----  \n",
      " 0   location          7066 non-null   object \n",
      " 1   Venue             7066 non-null   object \n",
      " 2   Game type         7066 non-null   object \n",
      " 3   Total buy in      7066 non-null   int64  \n",
      " 4   Prize pool        7066 non-null   int64  \n",
      " 5   rake              7066 non-null   object \n",
      " 6   Guarantee         7066 non-null   object \n",
      " 7   Date Time         7066 non-null   object \n",
      " 8   Prize pool ratio  6975 non-null   float64\n",
      "dtypes: float64(1), int64(2), object(6)\n",
      "memory usage: 552.0+ KB\n"
     ]
    }
   ],
   "source": [
    "df.info()"
   ]
  },
  {
   "cell_type": "code",
   "execution_count": 205,
   "metadata": {},
   "outputs": [
    {
     "data": {
      "text/plain": [
       "50000.0"
      ]
     },
     "execution_count": 205,
     "metadata": {},
     "output_type": "execute_result"
    }
   ],
   "source": [
    "df[\"Prize pool ratio\"].max()"
   ]
  },
  {
   "cell_type": "code",
   "execution_count": null,
   "metadata": {},
   "outputs": [],
   "source": []
  },
  {
   "cell_type": "code",
   "execution_count": 201,
   "metadata": {},
   "outputs": [],
   "source": [
    "df.to_csv(\"testing_in_tableau.csv\", encoding='utf-8')"
   ]
  }
 ],
 "metadata": {
  "kernelspec": {
   "display_name": "Python 3",
   "language": "python",
   "name": "python3"
  },
  "language_info": {
   "codemirror_mode": {
    "name": "ipython",
    "version": 3
   },
   "file_extension": ".py",
   "mimetype": "text/x-python",
   "name": "python",
   "nbconvert_exporter": "python",
   "pygments_lexer": "ipython3",
   "version": "3.10.4"
  },
  "orig_nbformat": 4,
  "vscode": {
   "interpreter": {
    "hash": "aee8b7b246df8f9039afb4144a1f6fd8d2ca17a180786b69acc140d282b71a49"
   }
  }
 },
 "nbformat": 4,
 "nbformat_minor": 2
}
