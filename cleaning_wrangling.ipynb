{
 "cells": [
  {
   "cell_type": "code",
   "execution_count": 2,
   "metadata": {},
   "outputs": [],
   "source": [
    "import pandas as pd"
   ]
  },
  {
   "attachments": {},
   "cell_type": "markdown",
   "metadata": {},
   "source": [
    "### combine my 3 CSV's into one CSV"
   ]
  },
  {
   "cell_type": "code",
   "execution_count": 3,
   "metadata": {},
   "outputs": [],
   "source": [
    "df = pd.concat(map(pd.read_csv, ['Tournaments_data_3.csv', 'Tournaments_data_4.csv','Tournaments_data_5.csv']))"
   ]
  },
  {
   "cell_type": "code",
   "execution_count": 4,
   "metadata": {},
   "outputs": [],
   "source": [
    "df.to_csv(\"combined_data.csv\", encoding='utf-8')"
   ]
  },
  {
   "cell_type": "code",
   "execution_count": 5,
   "metadata": {},
   "outputs": [],
   "source": [
    "df = df.set_index(\"Unique ID\")"
   ]
  },
  {
   "attachments": {},
   "cell_type": "markdown",
   "metadata": {},
   "source": [
    "### Raw data to be brought in after combining CSV's"
   ]
  },
  {
   "cell_type": "code",
   "execution_count": 32,
   "metadata": {},
   "outputs": [],
   "source": [
    "df = pd.read_csv(\"combined_data.csv\", index_col=\"Unique ID\")"
   ]
  },
  {
   "attachments": {},
   "cell_type": "markdown",
   "metadata": {},
   "source": [
    "### Remove any null values\n",
    "The null values we have are in the date column, as well as the game type column. Any date that was on the day that my script ran came back NaN, it doesn't seem to matter much to remove these as that day has past, and it will be just a few hundred lines. I am not sure why a few hundred came back without a game type, but they mostly seemed to be from the same locations. While it does suck to lose those locations, the game type is very key information, and I will be ommiting them unless I run the script again and can solve the issue of them coming back blank. This still leaves me with over 7k rows of information."
   ]
  },
  {
   "cell_type": "code",
   "execution_count": 34,
   "metadata": {},
   "outputs": [],
   "source": [
    "df = df.dropna()"
   ]
  },
  {
   "cell_type": "markdown",
   "metadata": {},
   "source": [
    "### Convert date and time into readable DateTime"
   ]
  },
  {
   "cell_type": "code",
   "execution_count": 36,
   "metadata": {},
   "outputs": [],
   "source": [
    "df[\"Date\"] = df[\"Date\"].str[1:5]\n",
    "df[\"Date\"] = df[\"Date\"] + \"/2023\""
   ]
  },
  {
   "cell_type": "code",
   "execution_count": 38,
   "metadata": {},
   "outputs": [],
   "source": [
    "df['Start time'] = df['Start time'].str.replace(\"am\", \":00 am\")\n",
    "df['Start time'] = df['Start time'].str.replace(\"pm\", \":00 pm\")"
   ]
  },
  {
   "cell_type": "code",
   "execution_count": 39,
   "metadata": {},
   "outputs": [],
   "source": [
    "df[\"Date Time\"] = df[\"Date\"] + \" \" + df[\"Start time\"]"
   ]
  },
  {
   "cell_type": "code",
   "execution_count": 41,
   "metadata": {},
   "outputs": [],
   "source": [
    "df = df.drop(['Date', 'Start time'], axis=1)"
   ]
  },
  {
   "attachments": {},
   "cell_type": "markdown",
   "metadata": {},
   "source": [
    "### Create new column for the ratio of the buy in the goes to the prize pool\n",
    "This step includes some slicing, as well as removing any rows with \"Day 2\" as a value in the \"Total buy in\" column. \"Day 2\" I decided was unnecessary, as that particular tournament will have been accounted for in its various day 1 entries. This left me with 5475 rows of data.\n",
    "\n",
    "This step also includes turning the objects into numerical values"
   ]
  },
  {
   "cell_type": "code",
   "execution_count": 51,
   "metadata": {},
   "outputs": [],
   "source": [
    "df = df[df[\"Total buy in\"].str.contains(\"ay 2\") == False]"
   ]
  },
  {
   "cell_type": "code",
   "execution_count": 46,
   "metadata": {},
   "outputs": [],
   "source": [
    "df[\"Total buy in\"] = df[\"Total buy in\"].str[1:]\n",
    "df[\"Prize pool\"] = df[\"Prize pool\"].str[1:]\n",
    "df[\"rake\"] = df[\"rake\"].str[1:]"
   ]
  },
  {
   "cell_type": "code",
   "execution_count": 48,
   "metadata": {},
   "outputs": [],
   "source": [
    "df[\"Total buy in\"] = df[\"Total buy in\"].str.replace(\",\", \"\")\n",
    "df[\"Prize pool\"] = df[\"Prize pool\"].str.replace(\",\", \"\")\n"
   ]
  },
  {
   "cell_type": "code",
   "execution_count": 52,
   "metadata": {},
   "outputs": [],
   "source": [
    "df[\"Total buy in\"] = pd.to_numeric(df[\"Total buy in\"])\n",
    "df[\"Prize pool\"] = pd.to_numeric(df[\"Prize pool\"])"
   ]
  },
  {
   "attachments": {},
   "cell_type": "markdown",
   "metadata": {},
   "source": [
    "### Create \"Prize pool ratio\" column\n",
    "This step is important, as it informs the poker player how much of their initial investment can potentially be returned, vs. how much of it goes to paying the venue and staff.\n",
    "\n",
    "\"Prize pool ratio\" returned some NaN values as a freeroll tournament would try to find a value of 0/0. Therefore, I replaced NaN values with 1.1, denoting that their return is technically infinite because it requires 0 dollars to enter, but they can win dollars in return. It is important to note that freeroll tournaments are usually not worth the time when factored in with the opportunity cost of winning at a larger buy in tournament, if attempting to generate the highest hourly rate."
   ]
  },
  {
   "cell_type": "code",
   "execution_count": 98,
   "metadata": {},
   "outputs": [],
   "source": [
    "df[\"Prize pool ratio\"] = df[\"Prize pool\"] / df[\"Total buy in\"]"
   ]
  },
  {
   "cell_type": "code",
   "execution_count": 72,
   "metadata": {},
   "outputs": [],
   "source": [
    "df = df.fillna(1.1)"
   ]
  },
  {
   "attachments": {},
   "cell_type": "markdown",
   "metadata": {},
   "source": [
    "Additional info describes the information obtained in the collumn, as only some tournaments have a guarantee, but all tournaments have data here."
   ]
  },
  {
   "cell_type": "code",
   "execution_count": 78,
   "metadata": {},
   "outputs": [
    {
     "data": {
      "text/html": [
       "<div>\n",
       "<style scoped>\n",
       "    .dataframe tbody tr th:only-of-type {\n",
       "        vertical-align: middle;\n",
       "    }\n",
       "\n",
       "    .dataframe tbody tr th {\n",
       "        vertical-align: top;\n",
       "    }\n",
       "\n",
       "    .dataframe thead th {\n",
       "        text-align: right;\n",
       "    }\n",
       "</style>\n",
       "<table border=\"1\" class=\"dataframe\">\n",
       "  <thead>\n",
       "    <tr style=\"text-align: right;\">\n",
       "      <th></th>\n",
       "      <th>Unnamed: 0</th>\n",
       "      <th>location</th>\n",
       "      <th>Venue</th>\n",
       "      <th>Game type</th>\n",
       "      <th>Total buy in</th>\n",
       "      <th>Prize pool</th>\n",
       "      <th>rake</th>\n",
       "      <th>Additional info</th>\n",
       "      <th>Date Time</th>\n",
       "      <th>Prize pool ratio</th>\n",
       "    </tr>\n",
       "    <tr>\n",
       "      <th>Unique ID</th>\n",
       "      <th></th>\n",
       "      <th></th>\n",
       "      <th></th>\n",
       "      <th></th>\n",
       "      <th></th>\n",
       "      <th></th>\n",
       "      <th></th>\n",
       "      <th></th>\n",
       "      <th></th>\n",
       "      <th></th>\n",
       "    </tr>\n",
       "  </thead>\n",
       "  <tbody>\n",
       "    <tr>\n",
       "      <th>235</th>\n",
       "      <td>235</td>\n",
       "      <td>Jacksonville, Tallahassee and Pensacola</td>\n",
       "      <td>Pensacola Greyhound Track</td>\n",
       "      <td>NLH</td>\n",
       "      <td>120</td>\n",
       "      <td>85</td>\n",
       "      <td>35</td>\n",
       "      <td>Thursday $120 DEEP STACK</td>\n",
       "      <td>1/26/2023 7:00:00 pm</td>\n",
       "      <td>0.708333</td>\n",
       "    </tr>\n",
       "    <tr>\n",
       "      <th>236</th>\n",
       "      <td>236</td>\n",
       "      <td>Jacksonville, Tallahassee and Pensacola</td>\n",
       "      <td>bestbet Jacksonville</td>\n",
       "      <td>NLH</td>\n",
       "      <td>400</td>\n",
       "      <td>325</td>\n",
       "      <td>75</td>\n",
       "      <td>2023 Winter Open - Event #1 - No Limit Hold'em</td>\n",
       "      <td>1/27/2023 12:00:00 pm</td>\n",
       "      <td>0.812500</td>\n",
       "    </tr>\n",
       "    <tr>\n",
       "      <th>237</th>\n",
       "      <td>237</td>\n",
       "      <td>Jacksonville, Tallahassee and Pensacola</td>\n",
       "      <td>bestbet Jacksonville</td>\n",
       "      <td>NLH</td>\n",
       "      <td>100</td>\n",
       "      <td>75</td>\n",
       "      <td>25</td>\n",
       "      <td>Satellite into Event 1</td>\n",
       "      <td>1/27/2023 3:00:00 pm</td>\n",
       "      <td>0.750000</td>\n",
       "    </tr>\n",
       "    <tr>\n",
       "      <th>238</th>\n",
       "      <td>238</td>\n",
       "      <td>Jacksonville, Tallahassee and Pensacola</td>\n",
       "      <td>bestbet Jacksonville</td>\n",
       "      <td>NLH</td>\n",
       "      <td>400</td>\n",
       "      <td>325</td>\n",
       "      <td>75</td>\n",
       "      <td>2023 Winter Open - Event #1 - No Limit Hold'em</td>\n",
       "      <td>1/27/2023 6:00:00 pm</td>\n",
       "      <td>0.812500</td>\n",
       "    </tr>\n",
       "    <tr>\n",
       "      <th>239</th>\n",
       "      <td>239</td>\n",
       "      <td>Jacksonville, Tallahassee and Pensacola</td>\n",
       "      <td>bestbet St. Augustine</td>\n",
       "      <td>NLH</td>\n",
       "      <td>160</td>\n",
       "      <td>125</td>\n",
       "      <td>35</td>\n",
       "      <td>$160 NLH SIX HOUR IRON MAN</td>\n",
       "      <td>1/27/2023 7:00:00 pm</td>\n",
       "      <td>0.781250</td>\n",
       "    </tr>\n",
       "    <tr>\n",
       "      <th>...</th>\n",
       "      <td>...</td>\n",
       "      <td>...</td>\n",
       "      <td>...</td>\n",
       "      <td>...</td>\n",
       "      <td>...</td>\n",
       "      <td>...</td>\n",
       "      <td>...</td>\n",
       "      <td>...</td>\n",
       "      <td>...</td>\n",
       "      <td>...</td>\n",
       "    </tr>\n",
       "    <tr>\n",
       "      <th>8138</th>\n",
       "      <td>2131</td>\n",
       "      <td>Seattle and Tacoma</td>\n",
       "      <td>Casino Caribbean Kirkland</td>\n",
       "      <td>NLH</td>\n",
       "      <td>75</td>\n",
       "      <td>60</td>\n",
       "      <td>15</td>\n",
       "      <td>NLH Bounty</td>\n",
       "      <td>1/19/2023 6:00:00 pm</td>\n",
       "      <td>0.800000</td>\n",
       "    </tr>\n",
       "    <tr>\n",
       "      <th>8141</th>\n",
       "      <td>2134</td>\n",
       "      <td>Seattle and Tacoma</td>\n",
       "      <td>Red Dragon Casino</td>\n",
       "      <td>NLH</td>\n",
       "      <td>130</td>\n",
       "      <td>100</td>\n",
       "      <td>30</td>\n",
       "      <td>NLH</td>\n",
       "      <td>1/20/2023 10:00:00 am</td>\n",
       "      <td>0.769231</td>\n",
       "    </tr>\n",
       "    <tr>\n",
       "      <th>8142</th>\n",
       "      <td>2135</td>\n",
       "      <td>Seattle and Tacoma</td>\n",
       "      <td>Jamestown Saloon</td>\n",
       "      <td>NLH</td>\n",
       "      <td>60</td>\n",
       "      <td>50</td>\n",
       "      <td>10</td>\n",
       "      <td>NLH</td>\n",
       "      <td>1/20/2023 10:30:00 am</td>\n",
       "      <td>0.833333</td>\n",
       "    </tr>\n",
       "    <tr>\n",
       "      <th>8145</th>\n",
       "      <td>2138</td>\n",
       "      <td>Seattle and Tacoma</td>\n",
       "      <td>Roxbury Lanes Casino</td>\n",
       "      <td>NLH</td>\n",
       "      <td>50</td>\n",
       "      <td>35</td>\n",
       "      <td>15</td>\n",
       "      <td>NLH</td>\n",
       "      <td>1/20/2023 12:00:00 pm</td>\n",
       "      <td>0.700000</td>\n",
       "    </tr>\n",
       "    <tr>\n",
       "      <th>8146</th>\n",
       "      <td>2139</td>\n",
       "      <td>Seattle and Tacoma</td>\n",
       "      <td>Casino Caribbean Kirkland</td>\n",
       "      <td>NLH</td>\n",
       "      <td>130</td>\n",
       "      <td>100</td>\n",
       "      <td>30</td>\n",
       "      <td>NLH</td>\n",
       "      <td>1/20/2023 2:00:00 pm</td>\n",
       "      <td>0.769231</td>\n",
       "    </tr>\n",
       "  </tbody>\n",
       "</table>\n",
       "<p>5475 rows × 10 columns</p>\n",
       "</div>"
      ],
      "text/plain": [
       "           Unnamed: 0                                 location  \\\n",
       "Unique ID                                                        \n",
       "235               235  Jacksonville, Tallahassee and Pensacola   \n",
       "236               236  Jacksonville, Tallahassee and Pensacola   \n",
       "237               237  Jacksonville, Tallahassee and Pensacola   \n",
       "238               238  Jacksonville, Tallahassee and Pensacola   \n",
       "239               239  Jacksonville, Tallahassee and Pensacola   \n",
       "...               ...                                      ...   \n",
       "8138             2131                       Seattle and Tacoma   \n",
       "8141             2134                       Seattle and Tacoma   \n",
       "8142             2135                       Seattle and Tacoma   \n",
       "8145             2138                       Seattle and Tacoma   \n",
       "8146             2139                       Seattle and Tacoma   \n",
       "\n",
       "                               Venue Game type  Total buy in  Prize pool rake  \\\n",
       "Unique ID                                                                       \n",
       "235        Pensacola Greyhound Track       NLH           120          85   35   \n",
       "236             bestbet Jacksonville       NLH           400         325   75   \n",
       "237             bestbet Jacksonville       NLH           100          75   25   \n",
       "238             bestbet Jacksonville       NLH           400         325   75   \n",
       "239            bestbet St. Augustine       NLH           160         125   35   \n",
       "...                              ...       ...           ...         ...  ...   \n",
       "8138       Casino Caribbean Kirkland       NLH            75          60   15   \n",
       "8141               Red Dragon Casino       NLH           130         100   30   \n",
       "8142                Jamestown Saloon       NLH            60          50   10   \n",
       "8145            Roxbury Lanes Casino       NLH            50          35   15   \n",
       "8146       Casino Caribbean Kirkland       NLH           130         100   30   \n",
       "\n",
       "                                          Additional info  \\\n",
       "Unique ID                                                   \n",
       "235                              Thursday $120 DEEP STACK   \n",
       "236        2023 Winter Open - Event #1 - No Limit Hold'em   \n",
       "237                                Satellite into Event 1   \n",
       "238        2023 Winter Open - Event #1 - No Limit Hold'em   \n",
       "239                            $160 NLH SIX HOUR IRON MAN   \n",
       "...                                                   ...   \n",
       "8138                                           NLH Bounty   \n",
       "8141                                                  NLH   \n",
       "8142                                                  NLH   \n",
       "8145                                                  NLH   \n",
       "8146                                                  NLH   \n",
       "\n",
       "                       Date Time  Prize pool ratio  \n",
       "Unique ID                                           \n",
       "235         1/26/2023 7:00:00 pm          0.708333  \n",
       "236        1/27/2023 12:00:00 pm          0.812500  \n",
       "237         1/27/2023 3:00:00 pm          0.750000  \n",
       "238         1/27/2023 6:00:00 pm          0.812500  \n",
       "239         1/27/2023 7:00:00 pm          0.781250  \n",
       "...                          ...               ...  \n",
       "8138        1/19/2023 6:00:00 pm          0.800000  \n",
       "8141       1/20/2023 10:00:00 am          0.769231  \n",
       "8142       1/20/2023 10:30:00 am          0.833333  \n",
       "8145       1/20/2023 12:00:00 pm          0.700000  \n",
       "8146        1/20/2023 2:00:00 pm          0.769231  \n",
       "\n",
       "[5475 rows x 10 columns]"
      ]
     },
     "execution_count": 78,
     "metadata": {},
     "output_type": "execute_result"
    }
   ],
   "source": [
    "df.rename(columns={\"Guarantee\": \"Additional info\"})"
   ]
  },
  {
   "attachments": {},
   "cell_type": "markdown",
   "metadata": {},
   "source": [
    "### Create a postal code column to use in tableau later\n",
    "- Step 1: Remove location\n",
    "- Step 2: Export Distinct Venues to a CSV\n",
    "- Step 3: Manually add Postal code looking it up on the internet\n",
    "- Step 4: Join Venue_locations.csv and testing_in_tableau.csv"
   ]
  },
  {
   "cell_type": "code",
   "execution_count": 92,
   "metadata": {},
   "outputs": [],
   "source": [
    "df = df.drop([\"Unnamed: 0\", \"location\"], axis=1)"
   ]
  },
  {
   "cell_type": "code",
   "execution_count": null,
   "metadata": {},
   "outputs": [],
   "source": [
    "df[\"Venue\"].value_counts().to_csv(\"Venue_locations.csv\")"
   ]
  },
  {
   "cell_type": "code",
   "execution_count": 7,
   "metadata": {},
   "outputs": [],
   "source": [
    "df = pd.read_csv(\"testing_in_tableau.csv\", index_col=\"Unique ID\")"
   ]
  },
  {
   "cell_type": "code",
   "execution_count": 4,
   "metadata": {},
   "outputs": [],
   "source": [
    "locations_df = pd.read_csv(\"Venue_locations.csv\")"
   ]
  },
  {
   "cell_type": "code",
   "execution_count": 9,
   "metadata": {},
   "outputs": [
    {
     "name": "stdout",
     "output_type": "stream",
     "text": [
      "<class 'pandas.core.frame.DataFrame'>\n",
      "RangeIndex: 196 entries, 0 to 195\n",
      "Data columns (total 2 columns):\n",
      " #   Column      Non-Null Count  Dtype \n",
      "---  ------      --------------  ----- \n",
      " 0   Venue       196 non-null    object\n",
      " 1   City State  196 non-null    int64 \n",
      "dtypes: int64(1), object(1)\n",
      "memory usage: 3.2+ KB\n"
     ]
    },
    {
     "data": {
      "text/html": [
       "<div>\n",
       "<style scoped>\n",
       "    .dataframe tbody tr th:only-of-type {\n",
       "        vertical-align: middle;\n",
       "    }\n",
       "\n",
       "    .dataframe tbody tr th {\n",
       "        vertical-align: top;\n",
       "    }\n",
       "\n",
       "    .dataframe thead th {\n",
       "        text-align: right;\n",
       "    }\n",
       "</style>\n",
       "<table border=\"1\" class=\"dataframe\">\n",
       "  <thead>\n",
       "    <tr style=\"text-align: right;\">\n",
       "      <th></th>\n",
       "      <th>Venue</th>\n",
       "      <th>City State</th>\n",
       "    </tr>\n",
       "  </thead>\n",
       "  <tbody>\n",
       "    <tr>\n",
       "      <th>0</th>\n",
       "      <td>Horseshoe Las Vegas</td>\n",
       "      <td>89109</td>\n",
       "    </tr>\n",
       "    <tr>\n",
       "      <th>1</th>\n",
       "      <td>Caesars Palace</td>\n",
       "      <td>89109</td>\n",
       "    </tr>\n",
       "    <tr>\n",
       "      <th>2</th>\n",
       "      <td>MGM Grand</td>\n",
       "      <td>89109</td>\n",
       "    </tr>\n",
       "    <tr>\n",
       "      <th>3</th>\n",
       "      <td>South Point Casino</td>\n",
       "      <td>89183</td>\n",
       "    </tr>\n",
       "    <tr>\n",
       "      <th>4</th>\n",
       "      <td>Turning Stone Casino</td>\n",
       "      <td>13478</td>\n",
       "    </tr>\n",
       "  </tbody>\n",
       "</table>\n",
       "</div>"
      ],
      "text/plain": [
       "                  Venue  City State\n",
       "0   Horseshoe Las Vegas       89109\n",
       "1        Caesars Palace       89109\n",
       "2             MGM Grand       89109\n",
       "3    South Point Casino       89183\n",
       "4  Turning Stone Casino       13478"
      ]
     },
     "execution_count": 9,
     "metadata": {},
     "output_type": "execute_result"
    }
   ],
   "source": [
    "locations_df.info()\n",
    "locations_df.head()\n"
   ]
  },
  {
   "cell_type": "code",
   "execution_count": 86,
   "metadata": {},
   "outputs": [],
   "source": [
    "df.to_csv(\"testing_in_tableau.csv\", encoding='utf-8')"
   ]
  },
  {
   "attachments": {},
   "cell_type": "markdown",
   "metadata": {},
   "source": [
    "Next steps:\n",
    "- remove day 2 instead of change buy in\n",
    "- change prize pool ratio from NaN to 1.1\n",
    "- change Guarantee to description\n",
    "\n",
    "- Add city and state manually :(\n"
   ]
  }
 ],
 "metadata": {
  "kernelspec": {
   "display_name": "Python 3",
   "language": "python",
   "name": "python3"
  },
  "language_info": {
   "codemirror_mode": {
    "name": "ipython",
    "version": 3
   },
   "file_extension": ".py",
   "mimetype": "text/x-python",
   "name": "python",
   "nbconvert_exporter": "python",
   "pygments_lexer": "ipython3",
   "version": "3.10.4"
  },
  "orig_nbformat": 4,
  "vscode": {
   "interpreter": {
    "hash": "aee8b7b246df8f9039afb4144a1f6fd8d2ca17a180786b69acc140d282b71a49"
   }
  }
 },
 "nbformat": 4,
 "nbformat_minor": 2
}
